{
 "cells": [
  {
   "cell_type": "code",
   "execution_count": 1,
   "id": "d6e70a15",
   "metadata": {
    "_cell_guid": "b1076dfc-b9ad-4769-8c92-a6c4dae69d19",
    "_uuid": "8f2839f25d086af736a60e9eeb907d3b93b6e0e5",
    "execution": {
     "iopub.execute_input": "2023-03-10T17:27:35.149879Z",
     "iopub.status.busy": "2023-03-10T17:27:35.148916Z",
     "iopub.status.idle": "2023-03-10T17:27:35.168763Z",
     "shell.execute_reply": "2023-03-10T17:27:35.167457Z"
    },
    "papermill": {
     "duration": 0.030973,
     "end_time": "2023-03-10T17:27:35.172329",
     "exception": false,
     "start_time": "2023-03-10T17:27:35.141356",
     "status": "completed"
    },
    "tags": []
   },
   "outputs": [
    {
     "name": "stdout",
     "output_type": "stream",
     "text": [
      "/kaggle/input/luxury-watches-price-dataset/Luxury watch.csv\n"
     ]
    }
   ],
   "source": [
    "# This Python 3 environment comes with many helpful analytics libraries installed\n",
    "# It is defined by the kaggle/python Docker image: https://github.com/kaggle/docker-python\n",
    "# For example, here's several helpful packages to load\n",
    "\n",
    "import numpy as np # linear algebra\n",
    "import pandas as pd # data processing, CSV file I/O (e.g. pd.read_csv)\n",
    "\n",
    "# Input data files are available in the read-only \"../input/\" directory\n",
    "# For example, running this (by clicking run or pressing Shift+Enter) will list all files under the input directory\n",
    "\n",
    "import os\n",
    "for dirname, _, filenames in os.walk('/kaggle/input'):\n",
    "    for filename in filenames:\n",
    "        print(os.path.join(dirname, filename))\n",
    "\n",
    "# You can write up to 20GB to the current directory (/kaggle/working/) that gets preserved as output when you create a version using \"Save & Run All\" \n",
    "# You can also write temporary files to /kaggle/temp/, but they won't be saved outside of the current session"
   ]
  },
  {
   "cell_type": "code",
   "execution_count": 2,
   "id": "31991a4b",
   "metadata": {
    "execution": {
     "iopub.execute_input": "2023-03-10T17:27:35.184555Z",
     "iopub.status.busy": "2023-03-10T17:27:35.183634Z",
     "iopub.status.idle": "2023-03-10T17:27:35.234673Z",
     "shell.execute_reply": "2023-03-10T17:27:35.233371Z"
    },
    "papermill": {
     "duration": 0.060399,
     "end_time": "2023-03-10T17:27:35.237916",
     "exception": false,
     "start_time": "2023-03-10T17:27:35.177517",
     "status": "completed"
    },
    "tags": []
   },
   "outputs": [
    {
     "data": {
      "text/html": [
       "<div>\n",
       "<style scoped>\n",
       "    .dataframe tbody tr th:only-of-type {\n",
       "        vertical-align: middle;\n",
       "    }\n",
       "\n",
       "    .dataframe tbody tr th {\n",
       "        vertical-align: top;\n",
       "    }\n",
       "\n",
       "    .dataframe thead th {\n",
       "        text-align: right;\n",
       "    }\n",
       "</style>\n",
       "<table border=\"1\" class=\"dataframe\">\n",
       "  <thead>\n",
       "    <tr style=\"text-align: right;\">\n",
       "      <th></th>\n",
       "      <th>Brand</th>\n",
       "      <th>Model</th>\n",
       "      <th>Case Material</th>\n",
       "      <th>Strap Material</th>\n",
       "      <th>Movement Type</th>\n",
       "      <th>Water Resistance</th>\n",
       "      <th>Case Diameter (mm)</th>\n",
       "      <th>Case Thickness (mm)</th>\n",
       "      <th>Band Width (mm)</th>\n",
       "      <th>Dial Color</th>\n",
       "      <th>Crystal Material</th>\n",
       "      <th>Complications</th>\n",
       "      <th>Power Reserve</th>\n",
       "      <th>Price (USD)</th>\n",
       "    </tr>\n",
       "  </thead>\n",
       "  <tbody>\n",
       "    <tr>\n",
       "      <th>0</th>\n",
       "      <td>Rolex</td>\n",
       "      <td>Submariner</td>\n",
       "      <td>Stainless Steel</td>\n",
       "      <td>Stainless Steel</td>\n",
       "      <td>Automatic</td>\n",
       "      <td>300 meters</td>\n",
       "      <td>40.0</td>\n",
       "      <td>13.00</td>\n",
       "      <td>20.0</td>\n",
       "      <td>Black</td>\n",
       "      <td>Sapphire</td>\n",
       "      <td>Date</td>\n",
       "      <td>48 hours</td>\n",
       "      <td>9,500</td>\n",
       "    </tr>\n",
       "    <tr>\n",
       "      <th>1</th>\n",
       "      <td>Omega</td>\n",
       "      <td>Seamaster</td>\n",
       "      <td>Titanium</td>\n",
       "      <td>Rubber</td>\n",
       "      <td>Automatic</td>\n",
       "      <td>600 meters</td>\n",
       "      <td>43.5</td>\n",
       "      <td>14.47</td>\n",
       "      <td>21.0</td>\n",
       "      <td>Blue</td>\n",
       "      <td>Sapphire</td>\n",
       "      <td>Date</td>\n",
       "      <td>60 hours</td>\n",
       "      <td>5,800</td>\n",
       "    </tr>\n",
       "    <tr>\n",
       "      <th>2</th>\n",
       "      <td>Tag Heuer</td>\n",
       "      <td>Carrera</td>\n",
       "      <td>Stainless Steel</td>\n",
       "      <td>Leather</td>\n",
       "      <td>Automatic</td>\n",
       "      <td>100 meters</td>\n",
       "      <td>41.0</td>\n",
       "      <td>13.00</td>\n",
       "      <td>20.0</td>\n",
       "      <td>White</td>\n",
       "      <td>Sapphire</td>\n",
       "      <td>Chronograph</td>\n",
       "      <td>42 hours</td>\n",
       "      <td>4,200</td>\n",
       "    </tr>\n",
       "    <tr>\n",
       "      <th>3</th>\n",
       "      <td>Breitling</td>\n",
       "      <td>Navitimer</td>\n",
       "      <td>Stainless Steel</td>\n",
       "      <td>Stainless Steel</td>\n",
       "      <td>Automatic</td>\n",
       "      <td>30 meters</td>\n",
       "      <td>43.0</td>\n",
       "      <td>14.25</td>\n",
       "      <td>22.0</td>\n",
       "      <td>Black</td>\n",
       "      <td>Sapphire</td>\n",
       "      <td>Chronograph</td>\n",
       "      <td>70 hours</td>\n",
       "      <td>7,900</td>\n",
       "    </tr>\n",
       "    <tr>\n",
       "      <th>4</th>\n",
       "      <td>Cartier</td>\n",
       "      <td>Tank Solo</td>\n",
       "      <td>Stainless Steel</td>\n",
       "      <td>Leather</td>\n",
       "      <td>Quartz</td>\n",
       "      <td>30 meters</td>\n",
       "      <td>31.0</td>\n",
       "      <td>6.05</td>\n",
       "      <td>20.0</td>\n",
       "      <td>Silver</td>\n",
       "      <td>Sapphire</td>\n",
       "      <td>None</td>\n",
       "      <td>NaN</td>\n",
       "      <td>2,800</td>\n",
       "    </tr>\n",
       "  </tbody>\n",
       "</table>\n",
       "</div>"
      ],
      "text/plain": [
       "       Brand       Model    Case Material   Strap Material Movement Type  \\\n",
       "0      Rolex  Submariner  Stainless Steel  Stainless Steel     Automatic   \n",
       "1      Omega   Seamaster         Titanium           Rubber     Automatic   \n",
       "2  Tag Heuer     Carrera  Stainless Steel          Leather     Automatic   \n",
       "3  Breitling   Navitimer  Stainless Steel  Stainless Steel     Automatic   \n",
       "4    Cartier   Tank Solo  Stainless Steel          Leather        Quartz   \n",
       "\n",
       "  Water Resistance  Case Diameter (mm)  Case Thickness (mm)  Band Width (mm)  \\\n",
       "0       300 meters                40.0                13.00             20.0   \n",
       "1       600 meters                43.5                14.47             21.0   \n",
       "2       100 meters                41.0                13.00             20.0   \n",
       "3        30 meters                43.0                14.25             22.0   \n",
       "4        30 meters                31.0                 6.05             20.0   \n",
       "\n",
       "  Dial Color Crystal Material Complications Power Reserve Price (USD)  \n",
       "0      Black         Sapphire          Date      48 hours       9,500  \n",
       "1       Blue         Sapphire          Date      60 hours       5,800  \n",
       "2      White         Sapphire   Chronograph      42 hours       4,200  \n",
       "3      Black         Sapphire   Chronograph      70 hours       7,900  \n",
       "4     Silver         Sapphire          None           NaN       2,800  "
      ]
     },
     "execution_count": 2,
     "metadata": {},
     "output_type": "execute_result"
    }
   ],
   "source": [
    "# Let's import and inspect our dataset\n",
    "luxury_watches_df = pd.read_csv(\"/kaggle/input/luxury-watches-price-dataset/Luxury watch.csv\")\n",
    "luxury_watches_df.head()"
   ]
  },
  {
   "cell_type": "code",
   "execution_count": 3,
   "id": "74c47fc2",
   "metadata": {
    "execution": {
     "iopub.execute_input": "2023-03-10T17:27:35.249973Z",
     "iopub.status.busy": "2023-03-10T17:27:35.248781Z",
     "iopub.status.idle": "2023-03-10T17:27:35.274410Z",
     "shell.execute_reply": "2023-03-10T17:27:35.273200Z"
    },
    "papermill": {
     "duration": 0.034764,
     "end_time": "2023-03-10T17:27:35.277466",
     "exception": false,
     "start_time": "2023-03-10T17:27:35.242702",
     "status": "completed"
    },
    "tags": []
   },
   "outputs": [
    {
     "name": "stdout",
     "output_type": "stream",
     "text": [
      "<class 'pandas.core.frame.DataFrame'>\n",
      "RangeIndex: 507 entries, 0 to 506\n",
      "Data columns (total 14 columns):\n",
      " #   Column               Non-Null Count  Dtype  \n",
      "---  ------               --------------  -----  \n",
      " 0   Brand                507 non-null    object \n",
      " 1   Model                507 non-null    object \n",
      " 2   Case Material        507 non-null    object \n",
      " 3   Strap Material       507 non-null    object \n",
      " 4   Movement Type        507 non-null    object \n",
      " 5   Water Resistance     507 non-null    object \n",
      " 6   Case Diameter (mm)   507 non-null    float64\n",
      " 7   Case Thickness (mm)  507 non-null    float64\n",
      " 8   Band Width (mm)      507 non-null    float64\n",
      " 9   Dial Color           507 non-null    object \n",
      " 10  Crystal Material     507 non-null    object \n",
      " 11  Complications        507 non-null    object \n",
      " 12  Power Reserve        493 non-null    object \n",
      " 13  Price (USD)          506 non-null    object \n",
      "dtypes: float64(3), object(11)\n",
      "memory usage: 55.6+ KB\n"
     ]
    }
   ],
   "source": [
    "# - Let's see more information about our data\n",
    "luxury_watches_df.info()"
   ]
  },
  {
   "cell_type": "code",
   "execution_count": 4,
   "id": "b8e8d24d",
   "metadata": {
    "execution": {
     "iopub.execute_input": "2023-03-10T17:27:35.288401Z",
     "iopub.status.busy": "2023-03-10T17:27:35.287920Z",
     "iopub.status.idle": "2023-03-10T17:27:35.301894Z",
     "shell.execute_reply": "2023-03-10T17:27:35.300877Z"
    },
    "papermill": {
     "duration": 0.022691,
     "end_time": "2023-03-10T17:27:35.304606",
     "exception": false,
     "start_time": "2023-03-10T17:27:35.281915",
     "status": "completed"
    },
    "tags": []
   },
   "outputs": [],
   "source": [
    "# - Let's check for duplicate rows in our data set\n",
    "\n",
    "luxury_watches_df.duplicated().sum()\n",
    "\n",
    "# - Drop the duplicate rows in our dataset\n",
    "\n",
    "luxury_watches_df.drop_duplicates(inplace=True)"
   ]
  },
  {
   "cell_type": "code",
   "execution_count": 5,
   "id": "080b3384",
   "metadata": {
    "execution": {
     "iopub.execute_input": "2023-03-10T17:27:35.316052Z",
     "iopub.status.busy": "2023-03-10T17:27:35.315595Z",
     "iopub.status.idle": "2023-03-10T17:27:35.327733Z",
     "shell.execute_reply": "2023-03-10T17:27:35.326479Z"
    },
    "papermill": {
     "duration": 0.020941,
     "end_time": "2023-03-10T17:27:35.330327",
     "exception": false,
     "start_time": "2023-03-10T17:27:35.309386",
     "status": "completed"
    },
    "tags": []
   },
   "outputs": [
    {
     "data": {
      "text/plain": [
       "0"
      ]
     },
     "execution_count": 5,
     "metadata": {},
     "output_type": "execute_result"
    }
   ],
   "source": [
    "luxury_watches_df.duplicated().sum()"
   ]
  },
  {
   "cell_type": "code",
   "execution_count": 6,
   "id": "932f9a93",
   "metadata": {
    "execution": {
     "iopub.execute_input": "2023-03-10T17:27:35.342546Z",
     "iopub.status.busy": "2023-03-10T17:27:35.342094Z",
     "iopub.status.idle": "2023-03-10T17:27:35.714838Z",
     "shell.execute_reply": "2023-03-10T17:27:35.713909Z"
    },
    "papermill": {
     "duration": 0.3826,
     "end_time": "2023-03-10T17:27:35.717729",
     "exception": false,
     "start_time": "2023-03-10T17:27:35.335129",
     "status": "completed"
    },
    "tags": []
   },
   "outputs": [
    {
     "data": {
      "text/plain": [
       "<AxesSubplot:>"
      ]
     },
     "execution_count": 6,
     "metadata": {},
     "output_type": "execute_result"
    },
    {
     "data": {
      "image/png": "[encoded data removed]",
      "text/plain": [
       "<Figure size 640x480 with 1 Axes>"
      ]
     },
     "metadata": {},
     "output_type": "display_data"
    }
   ],
   "source": [
    "# - Let's plot a chart that displays the sum of missing values in our dataset\n",
    "# - \n",
    "luxury_watches_df.isna().sum().plot(kind=\"bar\")"
   ]
  },
  {
   "cell_type": "code",
   "execution_count": 7,
   "id": "2b7bdc91",
   "metadata": {
    "execution": {
     "iopub.execute_input": "2023-03-10T17:27:35.729920Z",
     "iopub.status.busy": "2023-03-10T17:27:35.729427Z",
     "iopub.status.idle": "2023-03-10T17:27:35.755203Z",
     "shell.execute_reply": "2023-03-10T17:27:35.753723Z"
    },
    "papermill": {
     "duration": 0.034935,
     "end_time": "2023-03-10T17:27:35.757862",
     "exception": false,
     "start_time": "2023-03-10T17:27:35.722927",
     "status": "completed"
    },
    "tags": []
   },
   "outputs": [
    {
     "data": {
      "text/html": [
       "<div>\n",
       "<style scoped>\n",
       "    .dataframe tbody tr th:only-of-type {\n",
       "        vertical-align: middle;\n",
       "    }\n",
       "\n",
       "    .dataframe tbody tr th {\n",
       "        vertical-align: top;\n",
       "    }\n",
       "\n",
       "    .dataframe thead th {\n",
       "        text-align: right;\n",
       "    }\n",
       "</style>\n",
       "<table border=\"1\" class=\"dataframe\">\n",
       "  <thead>\n",
       "    <tr style=\"text-align: right;\">\n",
       "      <th></th>\n",
       "      <th>Case Diameter (mm)</th>\n",
       "      <th>Case Thickness (mm)</th>\n",
       "      <th>Band Width (mm)</th>\n",
       "    </tr>\n",
       "  </thead>\n",
       "  <tbody>\n",
       "    <tr>\n",
       "      <th>count</th>\n",
       "      <td>487.000000</td>\n",
       "      <td>487.000000</td>\n",
       "      <td>487.000000</td>\n",
       "    </tr>\n",
       "    <tr>\n",
       "      <th>mean</th>\n",
       "      <td>41.040041</td>\n",
       "      <td>11.584784</td>\n",
       "      <td>21.109856</td>\n",
       "    </tr>\n",
       "    <tr>\n",
       "      <th>std</th>\n",
       "      <td>2.532395</td>\n",
       "      <td>2.492966</td>\n",
       "      <td>1.678583</td>\n",
       "    </tr>\n",
       "    <tr>\n",
       "      <th>min</th>\n",
       "      <td>27.500000</td>\n",
       "      <td>5.000000</td>\n",
       "      <td>15.000000</td>\n",
       "    </tr>\n",
       "    <tr>\n",
       "      <th>25%</th>\n",
       "      <td>40.000000</td>\n",
       "      <td>9.800000</td>\n",
       "      <td>20.000000</td>\n",
       "    </tr>\n",
       "    <tr>\n",
       "      <th>50%</th>\n",
       "      <td>41.000000</td>\n",
       "      <td>12.000000</td>\n",
       "      <td>20.000000</td>\n",
       "    </tr>\n",
       "    <tr>\n",
       "      <th>75%</th>\n",
       "      <td>42.000000</td>\n",
       "      <td>13.300000</td>\n",
       "      <td>22.000000</td>\n",
       "    </tr>\n",
       "    <tr>\n",
       "      <th>max</th>\n",
       "      <td>46.500000</td>\n",
       "      <td>17.500000</td>\n",
       "      <td>28.000000</td>\n",
       "    </tr>\n",
       "  </tbody>\n",
       "</table>\n",
       "</div>"
      ],
      "text/plain": [
       "       Case Diameter (mm)  Case Thickness (mm)  Band Width (mm)\n",
       "count          487.000000           487.000000       487.000000\n",
       "mean            41.040041            11.584784        21.109856\n",
       "std              2.532395             2.492966         1.678583\n",
       "min             27.500000             5.000000        15.000000\n",
       "25%             40.000000             9.800000        20.000000\n",
       "50%             41.000000            12.000000        20.000000\n",
       "75%             42.000000            13.300000        22.000000\n",
       "max             46.500000            17.500000        28.000000"
      ]
     },
     "execution_count": 7,
     "metadata": {},
     "output_type": "execute_result"
    }
   ],
   "source": [
    "# - Since the price value of the watches are important to our analysis, and just one row\n",
    "# - is affected, we can drop this row as it might affect our anlysis\n",
    "\n",
    "lw_df_cleaned = luxury_watches_df.dropna(subset=[\"Price (USD)\"]);\n",
    "\n",
    "lw_df_cleaned.describe()"
   ]
  },
  {
   "cell_type": "markdown",
   "id": "75e8f269",
   "metadata": {
    "papermill": {
     "duration": 0.005018,
     "end_time": "2023-03-10T17:27:35.768541",
     "exception": false,
     "start_time": "2023-03-10T17:27:35.763523",
     "status": "completed"
    },
    "tags": []
   },
   "source": [
    "Seeing the intital information from our dataset, we've noticed that the Price column is a String. We need the values of this column to be float so we'll be able to carry out summary statistics and analysis on the dataset. To do this, we can create another field in our dataset to accomodate the conversion of our Price values to float."
   ]
  },
  {
   "cell_type": "code",
   "execution_count": 8,
   "id": "449607a4",
   "metadata": {
    "execution": {
     "iopub.execute_input": "2023-03-10T17:27:35.781434Z",
     "iopub.status.busy": "2023-03-10T17:27:35.780623Z",
     "iopub.status.idle": "2023-03-10T17:27:35.810069Z",
     "shell.execute_reply": "2023-03-10T17:27:35.808538Z"
    },
    "papermill": {
     "duration": 0.039663,
     "end_time": "2023-03-10T17:27:35.813414",
     "exception": false,
     "start_time": "2023-03-10T17:27:35.773751",
     "status": "completed"
    },
    "tags": []
   },
   "outputs": [
    {
     "name": "stderr",
     "output_type": "stream",
     "text": [
      "/opt/conda/lib/python3.7/site-packages/ipykernel_launcher.py:5: SettingWithCopyWarning: \n",
      "A value is trying to be set on a copy of a slice from a DataFrame.\n",
      "Try using .loc[row_indexer,col_indexer] = value instead\n",
      "\n",
      "See the caveats in the documentation: https://pandas.pydata.org/pandas-docs/stable/user_guide/indexing.html#returning-a-view-versus-a-copy\n",
      "  \"\"\"\n"
     ]
    },
    {
     "data": {
      "text/html": [
       "<div>\n",
       "<style scoped>\n",
       "    .dataframe tbody tr th:only-of-type {\n",
       "        vertical-align: middle;\n",
       "    }\n",
       "\n",
       "    .dataframe tbody tr th {\n",
       "        vertical-align: top;\n",
       "    }\n",
       "\n",
       "    .dataframe thead th {\n",
       "        text-align: right;\n",
       "    }\n",
       "</style>\n",
       "<table border=\"1\" class=\"dataframe\">\n",
       "  <thead>\n",
       "    <tr style=\"text-align: right;\">\n",
       "      <th></th>\n",
       "      <th>Case Diameter (mm)</th>\n",
       "      <th>Case Thickness (mm)</th>\n",
       "      <th>Band Width (mm)</th>\n",
       "      <th>Price_Conv (USD)</th>\n",
       "    </tr>\n",
       "  </thead>\n",
       "  <tbody>\n",
       "    <tr>\n",
       "      <th>count</th>\n",
       "      <td>487.000000</td>\n",
       "      <td>487.000000</td>\n",
       "      <td>487.000000</td>\n",
       "      <td>487.000000</td>\n",
       "    </tr>\n",
       "    <tr>\n",
       "      <th>mean</th>\n",
       "      <td>41.040041</td>\n",
       "      <td>11.584784</td>\n",
       "      <td>21.109856</td>\n",
       "      <td>12100.266940</td>\n",
       "    </tr>\n",
       "    <tr>\n",
       "      <th>std</th>\n",
       "      <td>2.532395</td>\n",
       "      <td>2.492966</td>\n",
       "      <td>1.678583</td>\n",
       "      <td>10462.319226</td>\n",
       "    </tr>\n",
       "    <tr>\n",
       "      <th>min</th>\n",
       "      <td>27.500000</td>\n",
       "      <td>5.000000</td>\n",
       "      <td>15.000000</td>\n",
       "      <td>495.000000</td>\n",
       "    </tr>\n",
       "    <tr>\n",
       "      <th>25%</th>\n",
       "      <td>40.000000</td>\n",
       "      <td>9.800000</td>\n",
       "      <td>20.000000</td>\n",
       "      <td>5500.000000</td>\n",
       "    </tr>\n",
       "    <tr>\n",
       "      <th>50%</th>\n",
       "      <td>41.000000</td>\n",
       "      <td>12.000000</td>\n",
       "      <td>20.000000</td>\n",
       "      <td>8400.000000</td>\n",
       "    </tr>\n",
       "    <tr>\n",
       "      <th>75%</th>\n",
       "      <td>42.000000</td>\n",
       "      <td>13.300000</td>\n",
       "      <td>22.000000</td>\n",
       "      <td>16400.000000</td>\n",
       "    </tr>\n",
       "    <tr>\n",
       "      <th>max</th>\n",
       "      <td>46.500000</td>\n",
       "      <td>17.500000</td>\n",
       "      <td>28.000000</td>\n",
       "      <td>70000.000000</td>\n",
       "    </tr>\n",
       "  </tbody>\n",
       "</table>\n",
       "</div>"
      ],
      "text/plain": [
       "       Case Diameter (mm)  Case Thickness (mm)  Band Width (mm)  \\\n",
       "count          487.000000           487.000000       487.000000   \n",
       "mean            41.040041            11.584784        21.109856   \n",
       "std              2.532395             2.492966         1.678583   \n",
       "min             27.500000             5.000000        15.000000   \n",
       "25%             40.000000             9.800000        20.000000   \n",
       "50%             41.000000            12.000000        20.000000   \n",
       "75%             42.000000            13.300000        22.000000   \n",
       "max             46.500000            17.500000        28.000000   \n",
       "\n",
       "       Price_Conv (USD)  \n",
       "count        487.000000  \n",
       "mean       12100.266940  \n",
       "std        10462.319226  \n",
       "min          495.000000  \n",
       "25%         5500.000000  \n",
       "50%         8400.000000  \n",
       "75%        16400.000000  \n",
       "max        70000.000000  "
      ]
     },
     "execution_count": 8,
     "metadata": {},
     "output_type": "execute_result"
    }
   ],
   "source": [
    "# - create a new column and insert the float conversion of the Price (USD) column\n",
    "def convert_to_float(value):\n",
    "    return float(value.replace(\",\",\"\"))\n",
    "\n",
    "lw_df_cleaned[\"Price_Conv (USD)\"] = lw_df_cleaned[\"Price (USD)\"].apply(convert_to_float)\n",
    "\n",
    "## - describe the dataset again\n",
    "lw_df_cleaned.describe()"
   ]
  },
  {
   "cell_type": "code",
   "execution_count": 9,
   "id": "d9a14e6d",
   "metadata": {
    "execution": {
     "iopub.execute_input": "2023-03-10T17:27:35.827206Z",
     "iopub.status.busy": "2023-03-10T17:27:35.826319Z",
     "iopub.status.idle": "2023-03-10T17:27:35.848484Z",
     "shell.execute_reply": "2023-03-10T17:27:35.847214Z"
    },
    "papermill": {
     "duration": 0.032201,
     "end_time": "2023-03-10T17:27:35.851357",
     "exception": false,
     "start_time": "2023-03-10T17:27:35.819156",
     "status": "completed"
    },
    "tags": []
   },
   "outputs": [
    {
     "data": {
      "text/html": [
       "<div>\n",
       "<style scoped>\n",
       "    .dataframe tbody tr th:only-of-type {\n",
       "        vertical-align: middle;\n",
       "    }\n",
       "\n",
       "    .dataframe tbody tr th {\n",
       "        vertical-align: top;\n",
       "    }\n",
       "\n",
       "    .dataframe thead th {\n",
       "        text-align: right;\n",
       "    }\n",
       "</style>\n",
       "<table border=\"1\" class=\"dataframe\">\n",
       "  <thead>\n",
       "    <tr style=\"text-align: right;\">\n",
       "      <th></th>\n",
       "      <th>Brand</th>\n",
       "      <th>Model</th>\n",
       "      <th>Case Material</th>\n",
       "      <th>Strap Material</th>\n",
       "      <th>Movement Type</th>\n",
       "      <th>Water Resistance</th>\n",
       "      <th>Case Diameter (mm)</th>\n",
       "      <th>Case Thickness (mm)</th>\n",
       "      <th>Band Width (mm)</th>\n",
       "      <th>Dial Color</th>\n",
       "      <th>Crystal Material</th>\n",
       "      <th>Complications</th>\n",
       "      <th>Power Reserve</th>\n",
       "      <th>Price (USD)</th>\n",
       "      <th>Price_Conv (USD)</th>\n",
       "    </tr>\n",
       "  </thead>\n",
       "  <tbody>\n",
       "    <tr>\n",
       "      <th>502</th>\n",
       "      <td>Breguet</td>\n",
       "      <td>Classique</td>\n",
       "      <td>18k Rose Gold</td>\n",
       "      <td>Leather</td>\n",
       "      <td>Automatic</td>\n",
       "      <td>30 meters</td>\n",
       "      <td>38.5</td>\n",
       "      <td>8.25</td>\n",
       "      <td>20.0</td>\n",
       "      <td>White</td>\n",
       "      <td>Sapphire</td>\n",
       "      <td>Date</td>\n",
       "      <td>38 hours</td>\n",
       "      <td>21,500</td>\n",
       "      <td>21500.0</td>\n",
       "    </tr>\n",
       "    <tr>\n",
       "      <th>503</th>\n",
       "      <td>Blancpain</td>\n",
       "      <td>Fifty Fathoms</td>\n",
       "      <td>Stainless Steel</td>\n",
       "      <td>Fabric</td>\n",
       "      <td>Automatic</td>\n",
       "      <td>300 meters</td>\n",
       "      <td>45.0</td>\n",
       "      <td>15.50</td>\n",
       "      <td>23.0</td>\n",
       "      <td>Black</td>\n",
       "      <td>Sapphire</td>\n",
       "      <td>Date</td>\n",
       "      <td>120 hours</td>\n",
       "      <td>13,500</td>\n",
       "      <td>13500.0</td>\n",
       "    </tr>\n",
       "    <tr>\n",
       "      <th>504</th>\n",
       "      <td>Longines</td>\n",
       "      <td>Master Collection</td>\n",
       "      <td>Stainless Steel</td>\n",
       "      <td>Leather</td>\n",
       "      <td>Automatic</td>\n",
       "      <td>30 meters</td>\n",
       "      <td>38.5</td>\n",
       "      <td>9.70</td>\n",
       "      <td>20.0</td>\n",
       "      <td>Blue</td>\n",
       "      <td>Sapphire</td>\n",
       "      <td>Date</td>\n",
       "      <td>64 hours</td>\n",
       "      <td>1,800</td>\n",
       "      <td>1800.0</td>\n",
       "    </tr>\n",
       "    <tr>\n",
       "      <th>505</th>\n",
       "      <td>Vacheron Constantin</td>\n",
       "      <td>Overseas</td>\n",
       "      <td>Stainless Steel</td>\n",
       "      <td>Stainless Steel</td>\n",
       "      <td>Automatic</td>\n",
       "      <td>150 meters</td>\n",
       "      <td>41.5</td>\n",
       "      <td>11.00</td>\n",
       "      <td>22.0</td>\n",
       "      <td>Blue</td>\n",
       "      <td>Sapphire</td>\n",
       "      <td>Date</td>\n",
       "      <td>40 hours</td>\n",
       "      <td>19,000</td>\n",
       "      <td>19000.0</td>\n",
       "    </tr>\n",
       "    <tr>\n",
       "      <th>506</th>\n",
       "      <td>Frederique Constant</td>\n",
       "      <td>Classics</td>\n",
       "      <td>Stainless Steel</td>\n",
       "      <td>Leather</td>\n",
       "      <td>Automatic</td>\n",
       "      <td>50 meters</td>\n",
       "      <td>40.0</td>\n",
       "      <td>10.60</td>\n",
       "      <td>20.0</td>\n",
       "      <td>Silver</td>\n",
       "      <td>Sapphire</td>\n",
       "      <td>Date</td>\n",
       "      <td>38 hours</td>\n",
       "      <td>1,200</td>\n",
       "      <td>1200.0</td>\n",
       "    </tr>\n",
       "  </tbody>\n",
       "</table>\n",
       "</div>"
      ],
      "text/plain": [
       "                   Brand              Model    Case Material   Strap Material  \\\n",
       "502              Breguet          Classique    18k Rose Gold          Leather   \n",
       "503            Blancpain      Fifty Fathoms  Stainless Steel           Fabric   \n",
       "504             Longines  Master Collection  Stainless Steel          Leather   \n",
       "505  Vacheron Constantin           Overseas  Stainless Steel  Stainless Steel   \n",
       "506  Frederique Constant           Classics  Stainless Steel          Leather   \n",
       "\n",
       "    Movement Type Water Resistance  Case Diameter (mm)  Case Thickness (mm)  \\\n",
       "502     Automatic        30 meters                38.5                 8.25   \n",
       "503     Automatic       300 meters                45.0                15.50   \n",
       "504     Automatic        30 meters                38.5                 9.70   \n",
       "505     Automatic       150 meters                41.5                11.00   \n",
       "506     Automatic        50 meters                40.0                10.60   \n",
       "\n",
       "     Band Width (mm) Dial Color Crystal Material Complications Power Reserve  \\\n",
       "502             20.0      White         Sapphire          Date      38 hours   \n",
       "503             23.0      Black         Sapphire          Date     120 hours   \n",
       "504             20.0       Blue         Sapphire          Date      64 hours   \n",
       "505             22.0       Blue         Sapphire          Date      40 hours   \n",
       "506             20.0     Silver         Sapphire          Date      38 hours   \n",
       "\n",
       "    Price (USD)  Price_Conv (USD)  \n",
       "502      21,500           21500.0  \n",
       "503      13,500           13500.0  \n",
       "504       1,800            1800.0  \n",
       "505      19,000           19000.0  \n",
       "506       1,200            1200.0  "
      ]
     },
     "execution_count": 9,
     "metadata": {},
     "output_type": "execute_result"
    }
   ],
   "source": [
    "# - Let's preview our data again\n",
    "lw_df_cleaned.tail()"
   ]
  },
  {
   "cell_type": "code",
   "execution_count": 10,
   "id": "92c9fff4",
   "metadata": {
    "execution": {
     "iopub.execute_input": "2023-03-10T17:27:35.866553Z",
     "iopub.status.busy": "2023-03-10T17:27:35.866097Z",
     "iopub.status.idle": "2023-03-10T17:27:36.307252Z",
     "shell.execute_reply": "2023-03-10T17:27:36.305840Z"
    },
    "papermill": {
     "duration": 0.45256,
     "end_time": "2023-03-10T17:27:36.310384",
     "exception": false,
     "start_time": "2023-03-10T17:27:35.857824",
     "status": "completed"
    },
    "tags": []
   },
   "outputs": [
    {
     "data": {
      "image/png": "[encoded data removed]",
      "text/plain": [
       "<Figure size 640x480 with 1 Axes>"
      ]
     },
     "metadata": {},
     "output_type": "display_data"
    }
   ],
   "source": [
    "from matplotlib import pyplot as plt\n",
    "\n",
    "# - let's summarize the watches in our dataset using a table and a chart\n",
    "lw_df_cleaned.value_counts()\n",
    "\n",
    "lw_df_cleaned['Brand'].value_counts(sort=False).plot(kind=\"bar\")\n",
    "\n",
    "plt.xlabel(\"Brand\")\n",
    "plt.ylabel(\"Count\")\n",
    "plt.show()"
   ]
  },
  {
   "cell_type": "markdown",
   "id": "8ad51e6f",
   "metadata": {
    "papermill": {
     "duration": 0.006919,
     "end_time": "2023-03-10T17:27:36.324825",
     "exception": false,
     "start_time": "2023-03-10T17:27:36.317906",
     "status": "completed"
    },
    "tags": []
   },
   "source": [
    "With everything in place now, we can start the analysis of our data. Looking at the dataset, here are things we may want to find out:\n",
    "1. Summary of price for models of each brand to ascertain the most expensive watches\n",
    "2. Popular dial colors used my these brands\n",
    "3. Popular Case Materials used by brands\n",
    "4. Most Frequent Complications for luxury watches\n",
    "5. Most popular strap materials used by luxury brands\n",
    "6. Average case diameter, thickness and band width for each brand\n",
    "7. \n"
   ]
  },
  {
   "cell_type": "code",
   "execution_count": null,
   "id": "3bef6bd9",
   "metadata": {
    "papermill": {
     "duration": 0.006788,
     "end_time": "2023-03-10T17:27:36.338831",
     "exception": false,
     "start_time": "2023-03-10T17:27:36.332043",
     "status": "completed"
    },
    "tags": []
   },
   "outputs": [],
   "source": []
  }
 ],
 "metadata": {
  "kernelspec": {
   "display_name": "Python 3",
   "language": "python",
   "name": "python3"
  },
  "language_info": {
   "codemirror_mode": {
    "name": "ipython",
    "version": 3
   },
   "file_extension": ".py",
   "mimetype": "text/x-python",
   "name": "python",
   "nbconvert_exporter": "python",
   "pygments_lexer": "ipython3",
   "version": "3.7.12"
  },
  "papermill": {
   "default_parameters": {},
   "duration": 12.023403,
   "end_time": "2023-03-10T17:27:37.069946",
   "environment_variables": {},
   "exception": null,
   "input_path": "__notebook__.ipynb",
   "output_path": "__notebook__.ipynb",
   "parameters": {},
   "start_time": "2023-03-10T17:27:25.046543",
   "version": "2.4.0"
  }
 },
 "nbformat": 4,
 "nbformat_minor": 5
}
