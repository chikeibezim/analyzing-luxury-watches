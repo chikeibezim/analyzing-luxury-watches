{
 "cells": [
  {
   "cell_type": "code",
   "execution_count": 1,
   "id": "83fc44c3",
   "metadata": {
    "_cell_guid": "b1076dfc-b9ad-4769-8c92-a6c4dae69d19",
    "_uuid": "8f2839f25d086af736a60e9eeb907d3b93b6e0e5",
    "execution": {
     "iopub.execute_input": "2023-03-10T14:57:19.879889Z",
     "iopub.status.busy": "2023-03-10T14:57:19.879391Z",
     "iopub.status.idle": "2023-03-10T14:57:19.905067Z",
     "shell.execute_reply": "2023-03-10T14:57:19.903244Z"
    },
    "papermill": {
     "duration": 0.034975,
     "end_time": "2023-03-10T14:57:19.908560",
     "exception": false,
     "start_time": "2023-03-10T14:57:19.873585",
     "status": "completed"
    },
    "tags": []
   },
   "outputs": [
    {
     "name": "stdout",
     "output_type": "stream",
     "text": [
      "/kaggle/input/luxury-watches-price-dataset/Luxury watch.csv\n"
     ]
    }
   ],
   "source": [
    "# This Python 3 environment comes with many helpful analytics libraries installed\n",
    "# It is defined by the kaggle/python Docker image: https://github.com/kaggle/docker-python\n",
    "# For example, here's several helpful packages to load\n",
    "\n",
    "import numpy as np # linear algebra\n",
    "import pandas as pd # data processing, CSV file I/O (e.g. pd.read_csv)\n",
    "\n",
    "# Input data files are available in the read-only \"../input/\" directory\n",
    "# For example, running this (by clicking run or pressing Shift+Enter) will list all files under the input directory\n",
    "\n",
    "import os\n",
    "for dirname, _, filenames in os.walk('/kaggle/input'):\n",
    "    for filename in filenames:\n",
    "        print(os.path.join(dirname, filename))\n",
    "\n",
    "# You can write up to 20GB to the current directory (/kaggle/working/) that gets preserved as output when you create a version using \"Save & Run All\" \n",
    "# You can also write temporary files to /kaggle/temp/, but they won't be saved outside of the current session"
   ]
  },
  {
   "cell_type": "code",
   "execution_count": 2,
   "id": "b47860a0",
   "metadata": {
    "execution": {
     "iopub.execute_input": "2023-03-10T14:57:19.918316Z",
     "iopub.status.busy": "2023-03-10T14:57:19.917896Z",
     "iopub.status.idle": "2023-03-10T14:57:19.965596Z",
     "shell.execute_reply": "2023-03-10T14:57:19.964491Z"
    },
    "papermill": {
     "duration": 0.055071,
     "end_time": "2023-03-10T14:57:19.967665",
     "exception": false,
     "start_time": "2023-03-10T14:57:19.912594",
     "status": "completed"
    },
    "tags": []
   },
   "outputs": [
    {
     "data": {
      "text/html": [
       "<div>\n",
       "<style scoped>\n",
       "    .dataframe tbody tr th:only-of-type {\n",
       "        vertical-align: middle;\n",
       "    }\n",
       "\n",
       "    .dataframe tbody tr th {\n",
       "        vertical-align: top;\n",
       "    }\n",
       "\n",
       "    .dataframe thead th {\n",
       "        text-align: right;\n",
       "    }\n",
       "</style>\n",
       "<table border=\"1\" class=\"dataframe\">\n",
       "  <thead>\n",
       "    <tr style=\"text-align: right;\">\n",
       "      <th></th>\n",
       "      <th>Brand</th>\n",
       "      <th>Model</th>\n",
       "      <th>Case Material</th>\n",
       "      <th>Strap Material</th>\n",
       "      <th>Movement Type</th>\n",
       "      <th>Water Resistance</th>\n",
       "      <th>Case Diameter (mm)</th>\n",
       "      <th>Case Thickness (mm)</th>\n",
       "      <th>Band Width (mm)</th>\n",
       "      <th>Dial Color</th>\n",
       "      <th>Crystal Material</th>\n",
       "      <th>Complications</th>\n",
       "      <th>Power Reserve</th>\n",
       "      <th>Price (USD)</th>\n",
       "    </tr>\n",
       "  </thead>\n",
       "  <tbody>\n",
       "    <tr>\n",
       "      <th>0</th>\n",
       "      <td>Rolex</td>\n",
       "      <td>Submariner</td>\n",
       "      <td>Stainless Steel</td>\n",
       "      <td>Stainless Steel</td>\n",
       "      <td>Automatic</td>\n",
       "      <td>300 meters</td>\n",
       "      <td>40.0</td>\n",
       "      <td>13.00</td>\n",
       "      <td>20.0</td>\n",
       "      <td>Black</td>\n",
       "      <td>Sapphire</td>\n",
       "      <td>Date</td>\n",
       "      <td>48 hours</td>\n",
       "      <td>9,500</td>\n",
       "    </tr>\n",
       "    <tr>\n",
       "      <th>1</th>\n",
       "      <td>Omega</td>\n",
       "      <td>Seamaster</td>\n",
       "      <td>Titanium</td>\n",
       "      <td>Rubber</td>\n",
       "      <td>Automatic</td>\n",
       "      <td>600 meters</td>\n",
       "      <td>43.5</td>\n",
       "      <td>14.47</td>\n",
       "      <td>21.0</td>\n",
       "      <td>Blue</td>\n",
       "      <td>Sapphire</td>\n",
       "      <td>Date</td>\n",
       "      <td>60 hours</td>\n",
       "      <td>5,800</td>\n",
       "    </tr>\n",
       "    <tr>\n",
       "      <th>2</th>\n",
       "      <td>Tag Heuer</td>\n",
       "      <td>Carrera</td>\n",
       "      <td>Stainless Steel</td>\n",
       "      <td>Leather</td>\n",
       "      <td>Automatic</td>\n",
       "      <td>100 meters</td>\n",
       "      <td>41.0</td>\n",
       "      <td>13.00</td>\n",
       "      <td>20.0</td>\n",
       "      <td>White</td>\n",
       "      <td>Sapphire</td>\n",
       "      <td>Chronograph</td>\n",
       "      <td>42 hours</td>\n",
       "      <td>4,200</td>\n",
       "    </tr>\n",
       "    <tr>\n",
       "      <th>3</th>\n",
       "      <td>Breitling</td>\n",
       "      <td>Navitimer</td>\n",
       "      <td>Stainless Steel</td>\n",
       "      <td>Stainless Steel</td>\n",
       "      <td>Automatic</td>\n",
       "      <td>30 meters</td>\n",
       "      <td>43.0</td>\n",
       "      <td>14.25</td>\n",
       "      <td>22.0</td>\n",
       "      <td>Black</td>\n",
       "      <td>Sapphire</td>\n",
       "      <td>Chronograph</td>\n",
       "      <td>70 hours</td>\n",
       "      <td>7,900</td>\n",
       "    </tr>\n",
       "    <tr>\n",
       "      <th>4</th>\n",
       "      <td>Cartier</td>\n",
       "      <td>Tank Solo</td>\n",
       "      <td>Stainless Steel</td>\n",
       "      <td>Leather</td>\n",
       "      <td>Quartz</td>\n",
       "      <td>30 meters</td>\n",
       "      <td>31.0</td>\n",
       "      <td>6.05</td>\n",
       "      <td>20.0</td>\n",
       "      <td>Silver</td>\n",
       "      <td>Sapphire</td>\n",
       "      <td>None</td>\n",
       "      <td>NaN</td>\n",
       "      <td>2,800</td>\n",
       "    </tr>\n",
       "  </tbody>\n",
       "</table>\n",
       "</div>"
      ],
      "text/plain": [
       "       Brand       Model    Case Material   Strap Material Movement Type  \\\n",
       "0      Rolex  Submariner  Stainless Steel  Stainless Steel     Automatic   \n",
       "1      Omega   Seamaster         Titanium           Rubber     Automatic   \n",
       "2  Tag Heuer     Carrera  Stainless Steel          Leather     Automatic   \n",
       "3  Breitling   Navitimer  Stainless Steel  Stainless Steel     Automatic   \n",
       "4    Cartier   Tank Solo  Stainless Steel          Leather        Quartz   \n",
       "\n",
       "  Water Resistance  Case Diameter (mm)  Case Thickness (mm)  Band Width (mm)  \\\n",
       "0       300 meters                40.0                13.00             20.0   \n",
       "1       600 meters                43.5                14.47             21.0   \n",
       "2       100 meters                41.0                13.00             20.0   \n",
       "3        30 meters                43.0                14.25             22.0   \n",
       "4        30 meters                31.0                 6.05             20.0   \n",
       "\n",
       "  Dial Color Crystal Material Complications Power Reserve Price (USD)  \n",
       "0      Black         Sapphire          Date      48 hours       9,500  \n",
       "1       Blue         Sapphire          Date      60 hours       5,800  \n",
       "2      White         Sapphire   Chronograph      42 hours       4,200  \n",
       "3      Black         Sapphire   Chronograph      70 hours       7,900  \n",
       "4     Silver         Sapphire          None           NaN       2,800  "
      ]
     },
     "execution_count": 2,
     "metadata": {},
     "output_type": "execute_result"
    }
   ],
   "source": [
    "# Let's import and inspect our dataset\n",
    "luxury_watches_df = pd.read_csv(\"/kaggle/input/luxury-watches-price-dataset/Luxury watch.csv\")\n",
    "luxury_watches_df.head()"
   ]
  },
  {
   "cell_type": "code",
   "execution_count": 3,
   "id": "e6e2b87f",
   "metadata": {
    "execution": {
     "iopub.execute_input": "2023-03-10T14:57:19.976346Z",
     "iopub.status.busy": "2023-03-10T14:57:19.975929Z",
     "iopub.status.idle": "2023-03-10T14:57:20.002900Z",
     "shell.execute_reply": "2023-03-10T14:57:20.001607Z"
    },
    "papermill": {
     "duration": 0.034214,
     "end_time": "2023-03-10T14:57:20.005357",
     "exception": false,
     "start_time": "2023-03-10T14:57:19.971143",
     "status": "completed"
    },
    "tags": []
   },
   "outputs": [
    {
     "name": "stdout",
     "output_type": "stream",
     "text": [
      "<class 'pandas.core.frame.DataFrame'>\n",
      "RangeIndex: 507 entries, 0 to 506\n",
      "Data columns (total 14 columns):\n",
      " #   Column               Non-Null Count  Dtype  \n",
      "---  ------               --------------  -----  \n",
      " 0   Brand                507 non-null    object \n",
      " 1   Model                507 non-null    object \n",
      " 2   Case Material        507 non-null    object \n",
      " 3   Strap Material       507 non-null    object \n",
      " 4   Movement Type        507 non-null    object \n",
      " 5   Water Resistance     507 non-null    object \n",
      " 6   Case Diameter (mm)   507 non-null    float64\n",
      " 7   Case Thickness (mm)  507 non-null    float64\n",
      " 8   Band Width (mm)      507 non-null    float64\n",
      " 9   Dial Color           507 non-null    object \n",
      " 10  Crystal Material     507 non-null    object \n",
      " 11  Complications        507 non-null    object \n",
      " 12  Power Reserve        493 non-null    object \n",
      " 13  Price (USD)          506 non-null    object \n",
      "dtypes: float64(3), object(11)\n",
      "memory usage: 55.6+ KB\n"
     ]
    }
   ],
   "source": [
    "# - Let's see more information about our data\n",
    "luxury_watches_df.info()"
   ]
  },
  {
   "cell_type": "code",
   "execution_count": 4,
   "id": "77cdb34f",
   "metadata": {
    "execution": {
     "iopub.execute_input": "2023-03-10T14:57:20.014088Z",
     "iopub.status.busy": "2023-03-10T14:57:20.013637Z",
     "iopub.status.idle": "2023-03-10T14:57:20.322417Z",
     "shell.execute_reply": "2023-03-10T14:57:20.321383Z"
    },
    "papermill": {
     "duration": 0.315735,
     "end_time": "2023-03-10T14:57:20.324626",
     "exception": false,
     "start_time": "2023-03-10T14:57:20.008891",
     "status": "completed"
    },
    "tags": []
   },
   "outputs": [
    {
     "data": {
      "text/plain": [
       "<AxesSubplot:>"
      ]
     },
     "execution_count": 4,
     "metadata": {},
     "output_type": "execute_result"
    },
    {
     "data": {
      "image/png": "[encoded data removed]",
      "text/plain": [
       "<Figure size 640x480 with 1 Axes>"
      ]
     },
     "metadata": {},
     "output_type": "display_data"
    }
   ],
   "source": [
    "# - Let's plot a chart that displays the sum of missing values in our dataset\n",
    "# - \n",
    "luxury_watches_df.isna().sum().plot(kind=\"bar\")"
   ]
  },
  {
   "cell_type": "code",
   "execution_count": 5,
   "id": "54839fa2",
   "metadata": {
    "execution": {
     "iopub.execute_input": "2023-03-10T14:57:20.334978Z",
     "iopub.status.busy": "2023-03-10T14:57:20.333946Z",
     "iopub.status.idle": "2023-03-10T14:57:20.357431Z",
     "shell.execute_reply": "2023-03-10T14:57:20.356522Z"
    },
    "papermill": {
     "duration": 0.031556,
     "end_time": "2023-03-10T14:57:20.360277",
     "exception": false,
     "start_time": "2023-03-10T14:57:20.328721",
     "status": "completed"
    },
    "tags": []
   },
   "outputs": [
    {
     "data": {
      "text/html": [
       "<div>\n",
       "<style scoped>\n",
       "    .dataframe tbody tr th:only-of-type {\n",
       "        vertical-align: middle;\n",
       "    }\n",
       "\n",
       "    .dataframe tbody tr th {\n",
       "        vertical-align: top;\n",
       "    }\n",
       "\n",
       "    .dataframe thead th {\n",
       "        text-align: right;\n",
       "    }\n",
       "</style>\n",
       "<table border=\"1\" class=\"dataframe\">\n",
       "  <thead>\n",
       "    <tr style=\"text-align: right;\">\n",
       "      <th></th>\n",
       "      <th>Case Diameter (mm)</th>\n",
       "      <th>Case Thickness (mm)</th>\n",
       "      <th>Band Width (mm)</th>\n",
       "    </tr>\n",
       "  </thead>\n",
       "  <tbody>\n",
       "    <tr>\n",
       "      <th>count</th>\n",
       "      <td>506.000000</td>\n",
       "      <td>506.000000</td>\n",
       "      <td>506.000000</td>\n",
       "    </tr>\n",
       "    <tr>\n",
       "      <th>mean</th>\n",
       "      <td>41.044269</td>\n",
       "      <td>11.592866</td>\n",
       "      <td>21.103755</td>\n",
       "    </tr>\n",
       "    <tr>\n",
       "      <th>std</th>\n",
       "      <td>2.537492</td>\n",
       "      <td>2.491863</td>\n",
       "      <td>1.659538</td>\n",
       "    </tr>\n",
       "    <tr>\n",
       "      <th>min</th>\n",
       "      <td>27.500000</td>\n",
       "      <td>5.000000</td>\n",
       "      <td>15.000000</td>\n",
       "    </tr>\n",
       "    <tr>\n",
       "      <th>25%</th>\n",
       "      <td>40.000000</td>\n",
       "      <td>9.800000</td>\n",
       "      <td>20.000000</td>\n",
       "    </tr>\n",
       "    <tr>\n",
       "      <th>50%</th>\n",
       "      <td>41.000000</td>\n",
       "      <td>12.025000</td>\n",
       "      <td>20.000000</td>\n",
       "    </tr>\n",
       "    <tr>\n",
       "      <th>75%</th>\n",
       "      <td>42.000000</td>\n",
       "      <td>13.300000</td>\n",
       "      <td>22.000000</td>\n",
       "    </tr>\n",
       "    <tr>\n",
       "      <th>max</th>\n",
       "      <td>46.500000</td>\n",
       "      <td>17.500000</td>\n",
       "      <td>28.000000</td>\n",
       "    </tr>\n",
       "  </tbody>\n",
       "</table>\n",
       "</div>"
      ],
      "text/plain": [
       "       Case Diameter (mm)  Case Thickness (mm)  Band Width (mm)\n",
       "count          506.000000           506.000000       506.000000\n",
       "mean            41.044269            11.592866        21.103755\n",
       "std              2.537492             2.491863         1.659538\n",
       "min             27.500000             5.000000        15.000000\n",
       "25%             40.000000             9.800000        20.000000\n",
       "50%             41.000000            12.025000        20.000000\n",
       "75%             42.000000            13.300000        22.000000\n",
       "max             46.500000            17.500000        28.000000"
      ]
     },
     "execution_count": 5,
     "metadata": {},
     "output_type": "execute_result"
    }
   ],
   "source": [
    "# - Since the price value of the watches are important to our analysis, and just one row\n",
    "# - is affected, we can drop this column as it might affect our anlysis\n",
    "\n",
    "lw_df_cleaned = luxury_watches_df.dropna(subset=[\"Price (USD)\"]);\n",
    "\n",
    "lw_df_cleaned.describe()"
   ]
  },
  {
   "cell_type": "markdown",
   "id": "524f5880",
   "metadata": {
    "papermill": {
     "duration": 0.004602,
     "end_time": "2023-03-10T14:57:20.369293",
     "exception": false,
     "start_time": "2023-03-10T14:57:20.364691",
     "status": "completed"
    },
    "tags": []
   },
   "source": [
    "Seeing the intital information from our dataset, we've noticed that the Price column is a String. We need the values of this column to be float wo we'll be able to carry out summary statistics and analysis on the dataset. To do this, we can create another field in our dataset to accomodate the conversion of our Price values to float."
   ]
  },
  {
   "cell_type": "code",
   "execution_count": 6,
   "id": "31c7c9d8",
   "metadata": {
    "execution": {
     "iopub.execute_input": "2023-03-10T14:57:20.379996Z",
     "iopub.status.busy": "2023-03-10T14:57:20.379601Z",
     "iopub.status.idle": "2023-03-10T14:57:20.410642Z",
     "shell.execute_reply": "2023-03-10T14:57:20.408736Z"
    },
    "papermill": {
     "duration": 0.03897,
     "end_time": "2023-03-10T14:57:20.413029",
     "exception": false,
     "start_time": "2023-03-10T14:57:20.374059",
     "status": "completed"
    },
    "tags": []
   },
   "outputs": [
    {
     "name": "stderr",
     "output_type": "stream",
     "text": [
      "/opt/conda/lib/python3.7/site-packages/ipykernel_launcher.py:5: SettingWithCopyWarning: \n",
      "A value is trying to be set on a copy of a slice from a DataFrame.\n",
      "Try using .loc[row_indexer,col_indexer] = value instead\n",
      "\n",
      "See the caveats in the documentation: https://pandas.pydata.org/pandas-docs/stable/user_guide/indexing.html#returning-a-view-versus-a-copy\n",
      "  \"\"\"\n"
     ]
    },
    {
     "data": {
      "text/html": [
       "<div>\n",
       "<style scoped>\n",
       "    .dataframe tbody tr th:only-of-type {\n",
       "        vertical-align: middle;\n",
       "    }\n",
       "\n",
       "    .dataframe tbody tr th {\n",
       "        vertical-align: top;\n",
       "    }\n",
       "\n",
       "    .dataframe thead th {\n",
       "        text-align: right;\n",
       "    }\n",
       "</style>\n",
       "<table border=\"1\" class=\"dataframe\">\n",
       "  <thead>\n",
       "    <tr style=\"text-align: right;\">\n",
       "      <th></th>\n",
       "      <th>Case Diameter (mm)</th>\n",
       "      <th>Case Thickness (mm)</th>\n",
       "      <th>Band Width (mm)</th>\n",
       "      <th>Price_Conv (USD)</th>\n",
       "    </tr>\n",
       "  </thead>\n",
       "  <tbody>\n",
       "    <tr>\n",
       "      <th>count</th>\n",
       "      <td>506.000000</td>\n",
       "      <td>506.000000</td>\n",
       "      <td>506.000000</td>\n",
       "      <td>506.000000</td>\n",
       "    </tr>\n",
       "    <tr>\n",
       "      <th>mean</th>\n",
       "      <td>41.044269</td>\n",
       "      <td>11.592866</td>\n",
       "      <td>21.103755</td>\n",
       "      <td>12082.964427</td>\n",
       "    </tr>\n",
       "    <tr>\n",
       "      <th>std</th>\n",
       "      <td>2.537492</td>\n",
       "      <td>2.491863</td>\n",
       "      <td>1.659538</td>\n",
       "      <td>10419.816968</td>\n",
       "    </tr>\n",
       "    <tr>\n",
       "      <th>min</th>\n",
       "      <td>27.500000</td>\n",
       "      <td>5.000000</td>\n",
       "      <td>15.000000</td>\n",
       "      <td>495.000000</td>\n",
       "    </tr>\n",
       "    <tr>\n",
       "      <th>25%</th>\n",
       "      <td>40.000000</td>\n",
       "      <td>9.800000</td>\n",
       "      <td>20.000000</td>\n",
       "      <td>5500.000000</td>\n",
       "    </tr>\n",
       "    <tr>\n",
       "      <th>50%</th>\n",
       "      <td>41.000000</td>\n",
       "      <td>12.025000</td>\n",
       "      <td>20.000000</td>\n",
       "      <td>8350.000000</td>\n",
       "    </tr>\n",
       "    <tr>\n",
       "      <th>75%</th>\n",
       "      <td>42.000000</td>\n",
       "      <td>13.300000</td>\n",
       "      <td>22.000000</td>\n",
       "      <td>16450.000000</td>\n",
       "    </tr>\n",
       "    <tr>\n",
       "      <th>max</th>\n",
       "      <td>46.500000</td>\n",
       "      <td>17.500000</td>\n",
       "      <td>28.000000</td>\n",
       "      <td>70000.000000</td>\n",
       "    </tr>\n",
       "  </tbody>\n",
       "</table>\n",
       "</div>"
      ],
      "text/plain": [
       "       Case Diameter (mm)  Case Thickness (mm)  Band Width (mm)  \\\n",
       "count          506.000000           506.000000       506.000000   \n",
       "mean            41.044269            11.592866        21.103755   \n",
       "std              2.537492             2.491863         1.659538   \n",
       "min             27.500000             5.000000        15.000000   \n",
       "25%             40.000000             9.800000        20.000000   \n",
       "50%             41.000000            12.025000        20.000000   \n",
       "75%             42.000000            13.300000        22.000000   \n",
       "max             46.500000            17.500000        28.000000   \n",
       "\n",
       "       Price_Conv (USD)  \n",
       "count        506.000000  \n",
       "mean       12082.964427  \n",
       "std        10419.816968  \n",
       "min          495.000000  \n",
       "25%         5500.000000  \n",
       "50%         8350.000000  \n",
       "75%        16450.000000  \n",
       "max        70000.000000  "
      ]
     },
     "execution_count": 6,
     "metadata": {},
     "output_type": "execute_result"
    }
   ],
   "source": [
    "# - create a new column and insert the float conversion of the Price (USD) column\n",
    "def convert_to_float(value):\n",
    "    return float(value.replace(\",\",\"\"))\n",
    "\n",
    "lw_df_cleaned[\"Price_Conv (USD)\"] = lw_df_cleaned[\"Price (USD)\"].apply(convert_to_float)\n",
    "\n",
    "## - describe the dataset again\n",
    "lw_df_cleaned.describe()"
   ]
  },
  {
   "cell_type": "code",
   "execution_count": 7,
   "id": "e7f69fe4",
   "metadata": {
    "execution": {
     "iopub.execute_input": "2023-03-10T14:57:20.423826Z",
     "iopub.status.busy": "2023-03-10T14:57:20.423380Z",
     "iopub.status.idle": "2023-03-10T14:57:20.444741Z",
     "shell.execute_reply": "2023-03-10T14:57:20.443141Z"
    },
    "papermill": {
     "duration": 0.029946,
     "end_time": "2023-03-10T14:57:20.447563",
     "exception": false,
     "start_time": "2023-03-10T14:57:20.417617",
     "status": "completed"
    },
    "tags": []
   },
   "outputs": [
    {
     "data": {
      "text/html": [
       "<div>\n",
       "<style scoped>\n",
       "    .dataframe tbody tr th:only-of-type {\n",
       "        vertical-align: middle;\n",
       "    }\n",
       "\n",
       "    .dataframe tbody tr th {\n",
       "        vertical-align: top;\n",
       "    }\n",
       "\n",
       "    .dataframe thead th {\n",
       "        text-align: right;\n",
       "    }\n",
       "</style>\n",
       "<table border=\"1\" class=\"dataframe\">\n",
       "  <thead>\n",
       "    <tr style=\"text-align: right;\">\n",
       "      <th></th>\n",
       "      <th>Brand</th>\n",
       "      <th>Model</th>\n",
       "      <th>Case Material</th>\n",
       "      <th>Strap Material</th>\n",
       "      <th>Movement Type</th>\n",
       "      <th>Water Resistance</th>\n",
       "      <th>Case Diameter (mm)</th>\n",
       "      <th>Case Thickness (mm)</th>\n",
       "      <th>Band Width (mm)</th>\n",
       "      <th>Dial Color</th>\n",
       "      <th>Crystal Material</th>\n",
       "      <th>Complications</th>\n",
       "      <th>Power Reserve</th>\n",
       "      <th>Price (USD)</th>\n",
       "      <th>Price_Conv (USD)</th>\n",
       "    </tr>\n",
       "  </thead>\n",
       "  <tbody>\n",
       "    <tr>\n",
       "      <th>0</th>\n",
       "      <td>Rolex</td>\n",
       "      <td>Submariner</td>\n",
       "      <td>Stainless Steel</td>\n",
       "      <td>Stainless Steel</td>\n",
       "      <td>Automatic</td>\n",
       "      <td>300 meters</td>\n",
       "      <td>40.0</td>\n",
       "      <td>13.00</td>\n",
       "      <td>20.0</td>\n",
       "      <td>Black</td>\n",
       "      <td>Sapphire</td>\n",
       "      <td>Date</td>\n",
       "      <td>48 hours</td>\n",
       "      <td>9,500</td>\n",
       "      <td>9500.0</td>\n",
       "    </tr>\n",
       "    <tr>\n",
       "      <th>1</th>\n",
       "      <td>Omega</td>\n",
       "      <td>Seamaster</td>\n",
       "      <td>Titanium</td>\n",
       "      <td>Rubber</td>\n",
       "      <td>Automatic</td>\n",
       "      <td>600 meters</td>\n",
       "      <td>43.5</td>\n",
       "      <td>14.47</td>\n",
       "      <td>21.0</td>\n",
       "      <td>Blue</td>\n",
       "      <td>Sapphire</td>\n",
       "      <td>Date</td>\n",
       "      <td>60 hours</td>\n",
       "      <td>5,800</td>\n",
       "      <td>5800.0</td>\n",
       "    </tr>\n",
       "    <tr>\n",
       "      <th>2</th>\n",
       "      <td>Tag Heuer</td>\n",
       "      <td>Carrera</td>\n",
       "      <td>Stainless Steel</td>\n",
       "      <td>Leather</td>\n",
       "      <td>Automatic</td>\n",
       "      <td>100 meters</td>\n",
       "      <td>41.0</td>\n",
       "      <td>13.00</td>\n",
       "      <td>20.0</td>\n",
       "      <td>White</td>\n",
       "      <td>Sapphire</td>\n",
       "      <td>Chronograph</td>\n",
       "      <td>42 hours</td>\n",
       "      <td>4,200</td>\n",
       "      <td>4200.0</td>\n",
       "    </tr>\n",
       "    <tr>\n",
       "      <th>3</th>\n",
       "      <td>Breitling</td>\n",
       "      <td>Navitimer</td>\n",
       "      <td>Stainless Steel</td>\n",
       "      <td>Stainless Steel</td>\n",
       "      <td>Automatic</td>\n",
       "      <td>30 meters</td>\n",
       "      <td>43.0</td>\n",
       "      <td>14.25</td>\n",
       "      <td>22.0</td>\n",
       "      <td>Black</td>\n",
       "      <td>Sapphire</td>\n",
       "      <td>Chronograph</td>\n",
       "      <td>70 hours</td>\n",
       "      <td>7,900</td>\n",
       "      <td>7900.0</td>\n",
       "    </tr>\n",
       "    <tr>\n",
       "      <th>4</th>\n",
       "      <td>Cartier</td>\n",
       "      <td>Tank Solo</td>\n",
       "      <td>Stainless Steel</td>\n",
       "      <td>Leather</td>\n",
       "      <td>Quartz</td>\n",
       "      <td>30 meters</td>\n",
       "      <td>31.0</td>\n",
       "      <td>6.05</td>\n",
       "      <td>20.0</td>\n",
       "      <td>Silver</td>\n",
       "      <td>Sapphire</td>\n",
       "      <td>None</td>\n",
       "      <td>NaN</td>\n",
       "      <td>2,800</td>\n",
       "      <td>2800.0</td>\n",
       "    </tr>\n",
       "  </tbody>\n",
       "</table>\n",
       "</div>"
      ],
      "text/plain": [
       "       Brand       Model    Case Material   Strap Material Movement Type  \\\n",
       "0      Rolex  Submariner  Stainless Steel  Stainless Steel     Automatic   \n",
       "1      Omega   Seamaster         Titanium           Rubber     Automatic   \n",
       "2  Tag Heuer     Carrera  Stainless Steel          Leather     Automatic   \n",
       "3  Breitling   Navitimer  Stainless Steel  Stainless Steel     Automatic   \n",
       "4    Cartier   Tank Solo  Stainless Steel          Leather        Quartz   \n",
       "\n",
       "  Water Resistance  Case Diameter (mm)  Case Thickness (mm)  Band Width (mm)  \\\n",
       "0       300 meters                40.0                13.00             20.0   \n",
       "1       600 meters                43.5                14.47             21.0   \n",
       "2       100 meters                41.0                13.00             20.0   \n",
       "3        30 meters                43.0                14.25             22.0   \n",
       "4        30 meters                31.0                 6.05             20.0   \n",
       "\n",
       "  Dial Color Crystal Material Complications Power Reserve Price (USD)  \\\n",
       "0      Black         Sapphire          Date      48 hours       9,500   \n",
       "1       Blue         Sapphire          Date      60 hours       5,800   \n",
       "2      White         Sapphire   Chronograph      42 hours       4,200   \n",
       "3      Black         Sapphire   Chronograph      70 hours       7,900   \n",
       "4     Silver         Sapphire          None           NaN       2,800   \n",
       "\n",
       "   Price_Conv (USD)  \n",
       "0            9500.0  \n",
       "1            5800.0  \n",
       "2            4200.0  \n",
       "3            7900.0  \n",
       "4            2800.0  "
      ]
     },
     "execution_count": 7,
     "metadata": {},
     "output_type": "execute_result"
    }
   ],
   "source": [
    "# - Let's preview our data again\n",
    "lw_df_cleaned.head()"
   ]
  },
  {
   "cell_type": "code",
   "execution_count": 8,
   "id": "b7934d0a",
   "metadata": {
    "execution": {
     "iopub.execute_input": "2023-03-10T14:57:20.459335Z",
     "iopub.status.busy": "2023-03-10T14:57:20.458720Z",
     "iopub.status.idle": "2023-03-10T14:57:20.842652Z",
     "shell.execute_reply": "2023-03-10T14:57:20.841463Z"
    },
    "papermill": {
     "duration": 0.392449,
     "end_time": "2023-03-10T14:57:20.844968",
     "exception": false,
     "start_time": "2023-03-10T14:57:20.452519",
     "status": "completed"
    },
    "tags": []
   },
   "outputs": [
    {
     "data": {
      "image/png": "[encoded data removed]",
      "text/plain": [
       "<Figure size 640x480 with 1 Axes>"
      ]
     },
     "metadata": {},
     "output_type": "display_data"
    }
   ],
   "source": [
    "from matplotlib import pyplot as plt\n",
    "\n",
    "# - let's summarize the watches in our dataset using a table and a chart\n",
    "luxury_watches_df.value_counts()\n",
    "\n",
    "lw_df_cleaned['Brand'].value_counts(sort=False).plot(kind=\"bar\")\n",
    "\n",
    "plt.xlabel(\"Brand\")\n",
    "plt.ylabel(\"Count\")\n",
    "plt.show()"
   ]
  },
  {
   "cell_type": "markdown",
   "id": "6ef24fc9",
   "metadata": {
    "papermill": {
     "duration": 0.005058,
     "end_time": "2023-03-10T14:57:20.855636",
     "exception": false,
     "start_time": "2023-03-10T14:57:20.850578",
     "status": "completed"
    },
    "tags": []
   },
   "source": [
    "With everything in place now, we can start the analysis of our data. Looking at the dataset, here are things we may wan to find out:"
   ]
  },
  {
   "cell_type": "code",
   "execution_count": null,
   "id": "ea87da22",
   "metadata": {
    "papermill": {
     "duration": 0.005119,
     "end_time": "2023-03-10T14:57:20.866329",
     "exception": false,
     "start_time": "2023-03-10T14:57:20.861210",
     "status": "completed"
    },
    "tags": []
   },
   "outputs": [],
   "source": []
  }
 ],
 "metadata": {
  "kernelspec": {
   "display_name": "Python 3",
   "language": "python",
   "name": "python3"
  },
  "language_info": {
   "codemirror_mode": {
    "name": "ipython",
    "version": 3
   },
   "file_extension": ".py",
   "mimetype": "text/x-python",
   "name": "python",
   "nbconvert_exporter": "python",
   "pygments_lexer": "ipython3",
   "version": "3.7.12"
  },
  "papermill": {
   "default_parameters": {},
   "duration": 10.851839,
   "end_time": "2023-03-10T14:57:21.597025",
   "environment_variables": {},
   "exception": null,
   "input_path": "__notebook__.ipynb",
   "output_path": "__notebook__.ipynb",
   "parameters": {},
   "start_time": "2023-03-10T14:57:10.745186",
   "version": "2.4.0"
  }
 },
 "nbformat": 4,
 "nbformat_minor": 5
}
